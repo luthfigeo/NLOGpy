{
 "cells": [
  {
   "cell_type": "markdown",
   "metadata": {
    "id": "yfNwr-6wBjvm"
   },
   "source": [
    "# **NLOGpy**"
   ]
  },
  {
   "cell_type": "markdown",
   "metadata": {
    "id": "fI7jIuEjSsoP"
   },
   "source": [
    "This workflow allows you to pull lithostratigraphy and well data of a field from [Netherland Oil and Gas Portal](https://www.nlog.nl/datacenter/). It will save lithostratigraphy data of each well as a single JSON file and collect well informations as a pandas dataframe. I choose The Groningen Field in this example, a well-studied, prolific gas field in the Netherlands with 300+ wells which I want to play around with the data later on. But, feel free to use and modify it to pull another field dataset to serve for your own purpose.\n",
    "\n",
    "This package is not authored, or maintained, by Geological Survey of the Netherlands."
   ]
  },
  {
   "cell_type": "markdown",
   "metadata": {
    "id": "Q41RxjZTRqPp"
   },
   "source": [
    "### Requirements (packages needed to run the notebook)"
   ]
  },
  {
   "cell_type": "code",
   "execution_count": 1,
   "metadata": {
    "id": "F_X2GVdWYLFY"
   },
   "outputs": [],
   "source": [
    "## We need to import/install a few other things\n",
    "import matplotlib.pyplot as plt\n",
    "import lasio\n",
    "import os, json\n",
    "import glob\n",
    "import numpy as np\n",
    "import pandas as pd\n",
    "import seaborn as sns\n",
    "from pathlib import Path\n",
    "from sys import stdout\n",
    "import random\n",
    "import time\n",
    "import joblib\n",
    "\n",
    "from selenium import webdriver\n",
    "from selenium.webdriver.chrome.service import Service\n",
    "from selenium.webdriver.common.by import By\n",
    "from selenium.webdriver.support.ui import WebDriverWait as wait\n",
    "from selenium.webdriver.support import expected_conditions as EC\n",
    "from selenium.common.exceptions import TimeoutException\n",
    "\n",
    "import plotly.express as px\n",
    "from shapely.geometry import Point\n",
    "import geopandas as gpd\n",
    "from geopandas import GeoDataFrame\n",
    "\n",
    "path = os.getcwd()"
   ]
  },
  {
   "cell_type": "code",
   "execution_count": 2,
   "metadata": {
    "id": "SzunWDRMSKfe"
   },
   "outputs": [],
   "source": [
    "## Setup directory where the files going to be stored\n",
    "lasfiles_dir = 'LAS/'\n",
    "welltops_dir = 'well_tops/'"
   ]
  },
  {
   "cell_type": "markdown",
   "metadata": {
    "id": "nUIx678zoRK3"
   },
   "source": [
    "## **Dataset Creation**\n"
   ]
  },
  {
   "cell_type": "code",
   "execution_count": 3,
   "metadata": {
    "id": "caVPBI4rod-F"
   },
   "outputs": [],
   "source": [
    "## Make Download Directory\n",
    "download_path = path + '/lithostratigraphy'\n",
    "\n",
    "## Check if it exists, make if not\n",
    "if os.path.exists(download_path):\n",
    "    pass\n",
    "else:\n",
    "    os.makedirs(download_path)\n",
    "\n",
    "## Set Up Driver with ChromeOptions\n",
    "chromedriver = path + '/chromedriver.exe'\n",
    "ser = Service(chromedriver)\n",
    "\n",
    "chromeOptions = webdriver.ChromeOptions()\n",
    "\n",
    "prefs = {\"download.default_directory\": download_path}\n",
    "chromeOptions.add_experimental_option(\"prefs\", prefs)\n",
    "\n",
    "driver = webdriver.Chrome(service=ser, options=chromeOptions)\n",
    "\n",
    "url = 'https://www.nlog.nl/datacenter/field-overview?lang=en'\n",
    "driver.get(url)"
   ]
  },
  {
   "cell_type": "markdown",
   "metadata": {
    "id": "uAI17p3CpDMI"
   },
   "source": [
    "### Looking for the Groningen Field data\n",
    "Interact with web display and directly go to Groningen Field information"
   ]
  },
  {
   "cell_type": "code",
   "execution_count": 4,
   "metadata": {
    "id": "B1GAGMYHoznz"
   },
   "outputs": [],
   "source": [
    "## Interacting with web elements\n",
    "field = 'Groningen'\n",
    "fields_search = driver.find_element(By.XPATH,'//*[@id=\"fieldsByName\"]')\n",
    "fields_search.click()\n",
    "\n",
    "## Search for 'Groningen'\n",
    "fields_search.clear()\n",
    "fields_search.send_keys(field)"
   ]
  },
  {
   "cell_type": "code",
   "execution_count": 5,
   "metadata": {
    "id": "uVDih2Xko0Oe"
   },
   "outputs": [],
   "source": [
    "## Wait until all data are loaded and open a new frame\n",
    "field_data = driver.find_element(By.LINK_TEXT, field)\n",
    "field_data.click()\n",
    "driver.switch_to.frame(driver.find_element(By.TAG_NAME, \"iframe\"))"
   ]
  },
  {
   "cell_type": "code",
   "execution_count": 6,
   "metadata": {
    "id": "BmHpskC2o2Ec"
   },
   "outputs": [
    {
     "data": {
      "text/html": [
       "<div>\n",
       "<style scoped>\n",
       "    .dataframe tbody tr th:only-of-type {\n",
       "        vertical-align: middle;\n",
       "    }\n",
       "\n",
       "    .dataframe tbody tr th {\n",
       "        vertical-align: top;\n",
       "    }\n",
       "\n",
       "    .dataframe thead th {\n",
       "        text-align: right;\n",
       "    }\n",
       "</style>\n",
       "<table border=\"1\" class=\"dataframe\">\n",
       "  <thead>\n",
       "    <tr style=\"text-align: right;\">\n",
       "      <th></th>\n",
       "      <th>Well_name</th>\n",
       "      <th>Well_code</th>\n",
       "    </tr>\n",
       "  </thead>\n",
       "  <tbody>\n",
       "    <tr>\n",
       "      <th>0</th>\n",
       "      <td>AMSWEER-01</td>\n",
       "      <td>AMR-01</td>\n",
       "    </tr>\n",
       "    <tr>\n",
       "      <th>1</th>\n",
       "      <td>AMSWEER-02</td>\n",
       "      <td>AMR-02</td>\n",
       "    </tr>\n",
       "    <tr>\n",
       "      <th>2</th>\n",
       "      <td>AMSWEER-03</td>\n",
       "      <td>AMR-03</td>\n",
       "    </tr>\n",
       "    <tr>\n",
       "      <th>3</th>\n",
       "      <td>AMSWEER-04</td>\n",
       "      <td>AMR-04</td>\n",
       "    </tr>\n",
       "    <tr>\n",
       "      <th>4</th>\n",
       "      <td>AMSWEER-05</td>\n",
       "      <td>AMR-05</td>\n",
       "    </tr>\n",
       "  </tbody>\n",
       "</table>\n",
       "</div>"
      ],
      "text/plain": [
       "    Well_name Well_code\n",
       "0  AMSWEER-01    AMR-01\n",
       "1  AMSWEER-02    AMR-02\n",
       "2  AMSWEER-03    AMR-03\n",
       "3  AMSWEER-04    AMR-04\n",
       "4  AMSWEER-05    AMR-05"
      ]
     },
     "execution_count": 6,
     "metadata": {},
     "output_type": "execute_result"
    }
   ],
   "source": [
    "## Store all wells of the Groningen Field into pandas dataframe\n",
    "well_results = driver.find_element(By.CLASS_NAME,\"well-table\")\n",
    "well_results_html = well_results.get_attribute('innerHTML')\n",
    "well_df = pd.read_html(well_results_html)[0]\n",
    "well_df.columns = well_df.columns.str.replace(' ', '_')\n",
    "well_df.head()"
   ]
  },
  {
   "cell_type": "markdown",
   "metadata": {
    "id": "KYjFuREKpIYW"
   },
   "source": [
    "### Pull lithostratigraphic and well information data\n",
    "Make function to do the job and make a loop to automate the process for all wells"
   ]
  },
  {
   "cell_type": "code",
   "execution_count": 7,
   "metadata": {
    "id": "aVMJms8-o3l8"
   },
   "outputs": [],
   "source": [
    "def nlog_pull_lithostrat(well_name):\n",
    "    '''\n",
    "    Function to scrap lithostratigraphy data\n",
    "    well_name : well name\n",
    "    strat_df  : dataframe to store lithostratigraphic unit and its respective depth\n",
    "    '''\n",
    "    well_data = driver.find_element(By.LINK_TEXT, well_name)\n",
    "    well_data.click()\n",
    "    wait(driver, 10).until(EC.presence_of_element_located((By.XPATH,\"//nlog-lithostrat-brh//div[@class='table-overflow']\")))\n",
    "    strat_results = driver.find_element(By.XPATH,\"//nlog-lithostrat-brh//div[@class='table-overflow']\")\n",
    "    strat_results_html = strat_results.get_attribute('innerHTML')\n",
    "    strat_df = pd.read_html(strat_results_html)[0]\n",
    "    strat_df.columns = strat_df.columns.str.replace(' ', '_')\n",
    "    strat_df = strat_df.drop_duplicates(subset=['Stratigrafical_unit'], keep='first') #sometimes it has duplicate unit, we keep the first record\n",
    "    strat_df = strat_df[['Stratigrafical_unit','Top_(m)']].set_index('Stratigrafical_unit') #simplify to consists only stratigraphic name and top depth\n",
    "    driver.execute_script(\"window.history.go(-1)\")#driver.back()\n",
    "    wait(driver, 10).until(EC.presence_of_element_located((By.LINK_TEXT, well_name)))\n",
    "    time.sleep(1)\n",
    "    return strat_df\n",
    "\n",
    "def nlog_pull_wellinfo(well_name):\n",
    "    '''\n",
    "    Function to scrap well information\n",
    "    well_name : well name\n",
    "    well_info  : dictionary of well information\n",
    "    '''\n",
    "    well_data = driver.find_element(By.LINK_TEXT, well_name)\n",
    "    well_data.click()\n",
    "    wait(driver, 10).until(EC.presence_of_element_located((By.XPATH,\"//nlog-identify-brh//div[@class='p-tabview-panel']\")))\n",
    "    info_results = driver.find_element(By.XPATH,\"//nlog-identify-brh//div[@class='p-tabview-panel']\")\n",
    "    info_results_html = info_results.get_attribute('innerHTML')\n",
    "    well_info = pd.read_html(info_results_html)[0]\n",
    "    well_info[well_info.columns[0]] = well_info[well_info.columns[0]].map(lambda x: x.rstrip(':'))\n",
    "    well_info = well_info.set_index(well_info.columns[0])\n",
    "    well_info = well_info.squeeze().to_dict()\n",
    "    driver.execute_script(\"window.history.go(-1)\")#driver.back()\n",
    "    wait(driver, 10).until(EC.presence_of_element_located((By.LINK_TEXT, well_name)))\n",
    "    time.sleep(1)\n",
    "    return well_info"
   ]
  },
  {
   "cell_type": "markdown",
   "metadata": {
    "id": "HlmBnld-pKsn"
   },
   "source": [
    "It will take about 20 minutes to download 325 wells data"
   ]
  },
  {
   "cell_type": "code",
   "execution_count": 8,
   "metadata": {
    "id": "VwBrTCNGo48v"
   },
   "outputs": [
    {
     "name": "stdout",
     "output_type": "stream",
     "text": [
      "OVERSCHILD-04A-09OVERSCHILD-05: Data not found\n",
      "TEN POST-0906TEN POST-10: Data not found\n",
      "SCHEEMDERZWAAG-102SCHEEMDERZWAAG-103: Data not found\n",
      "SCHEEMDERZWAAG-104SCHEEMDERZWAAG-105: Data not found\n",
      "ZUIDERVEEN-1312-10"
     ]
    }
   ],
   "source": [
    "## Iterate through the list of Groningen Field wells and save the lithostratigraphic data into json files for each well\n",
    "for i in range(len(well_df)):\n",
    "    try:\n",
    "        strat_df = nlog_pull_lithostrat(well_df.Well_name[i])\n",
    "        strat_df.squeeze().to_json(download_path + '/' + well_df.Well_code[i] + '.json', indent=1)\n",
    "        stdout.write(\"\\r%s\" % well_df.Well_name[i])\n",
    "        stdout.flush()\n",
    "    except TimeoutException as e:\n",
    "        print(well_df.Well_name[i] + \": Data not found\")\n",
    "        driver.execute_script(\"window.history.go(-1)\")\n",
    "        wait(driver, 10).until(EC.presence_of_element_located((By.LINK_TEXT, well_df.Well_name[i])))\n",
    "        time.sleep(1)"
   ]
  },
  {
   "cell_type": "code",
   "execution_count": 9,
   "metadata": {
    "id": "AEyZHZ0do6Wg"
   },
   "outputs": [
    {
     "name": "stdout",
     "output_type": "stream",
     "text": [
      "ZUIDERVEEN-1312-10"
     ]
    }
   ],
   "source": [
    "## Iterate through the list of Groningen Field wells and save well informations\n",
    "well_data = pd.DataFrame()\n",
    "for i in range(len(well_df)):\n",
    "    try:\n",
    "        well_info = nlog_pull_wellinfo(well_df.Well_name[i])\n",
    "        well_data = pd.concat([well_data, pd.DataFrame.from_records([well_info])])\n",
    "        stdout.write(\"\\r%s\" % well_df.Well_name[i])\n",
    "        stdout.flush()\n",
    "    except TimeoutException as e:\n",
    "        print(well_df.Well_name[i] + \": Data not found\")\n",
    "        driver.execute_script(\"window.history.go(-1)\")\n",
    "        wait(driver, 10).until(EC.presence_of_element_located((By.LINK_TEXT, well_df.Well_name[i])))\n",
    "        time.sleep(1)"
   ]
  },
  {
   "cell_type": "code",
   "execution_count": 10,
   "metadata": {
    "id": "-DsFAdAlo8i_"
   },
   "outputs": [
    {
     "data": {
      "text/html": [
       "<div>\n",
       "<style scoped>\n",
       "    .dataframe tbody tr th:only-of-type {\n",
       "        vertical-align: middle;\n",
       "    }\n",
       "\n",
       "    .dataframe tbody tr th {\n",
       "        vertical-align: top;\n",
       "    }\n",
       "\n",
       "    .dataframe thead th {\n",
       "        text-align: right;\n",
       "    }\n",
       "</style>\n",
       "<table border=\"1\" class=\"dataframe\">\n",
       "  <thead>\n",
       "    <tr style=\"text-align: right;\">\n",
       "      <th></th>\n",
       "      <th>Identification</th>\n",
       "      <th>Location</th>\n",
       "      <th>Delivered location</th>\n",
       "      <th>Operator</th>\n",
       "      <th>Startdate drilling</th>\n",
       "      <th>Enddate drilling</th>\n",
       "      <th>Well type</th>\n",
       "      <th>Status</th>\n",
       "      <th>Well result</th>\n",
       "      <th>End depth</th>\n",
       "      <th>Vertical position of Rotary Table</th>\n",
       "      <th>Trajectory</th>\n",
       "      <th>Actual vertical depth</th>\n",
       "      <th>Deviation in direction x</th>\n",
       "      <th>Deviation in direction y</th>\n",
       "      <th>Platform/installation</th>\n",
       "      <th>Drilling company</th>\n",
       "      <th>Field (fieldcode)</th>\n",
       "      <th>Lat</th>\n",
       "      <th>Lon</th>\n",
       "    </tr>\n",
       "  </thead>\n",
       "  <tbody>\n",
       "    <tr>\n",
       "      <th>0</th>\n",
       "      <td>AMR-01</td>\n",
       "      <td>53.30083055, 6.90509971</td>\n",
       "      <td>256193, 591550</td>\n",
       "      <td>Nederlandse Aardolie Maatschappij B.V.</td>\n",
       "      <td>1972-03-27</td>\n",
       "      <td>14-05-1972</td>\n",
       "      <td>Appraisal hydrocarbon</td>\n",
       "      <td>Producing/Injecting</td>\n",
       "      <td>Gas</td>\n",
       "      <td>2974</td>\n",
       "      <td>5.09 meter relative to NAP</td>\n",
       "      <td>Vertical</td>\n",
       "      <td>2971.55 meter relative to Rotary Table2966.46 ...</td>\n",
       "      <td>61.90 m</td>\n",
       "      <td>45.01 m</td>\n",
       "      <td>Ideal 80 B</td>\n",
       "      <td>Deutag</td>\n",
       "      <td>Groningen (GRO)</td>\n",
       "      <td>53.30083055</td>\n",
       "      <td>6.90509971</td>\n",
       "    </tr>\n",
       "    <tr>\n",
       "      <th>0</th>\n",
       "      <td>AMR-02</td>\n",
       "      <td>53.30021133, 6.90929329</td>\n",
       "      <td>256474, 591487</td>\n",
       "      <td>NAM</td>\n",
       "      <td>1973-05-16</td>\n",
       "      <td>12-06-1973</td>\n",
       "      <td>Development hydrocarbon</td>\n",
       "      <td>Producing/Injecting</td>\n",
       "      <td>Gas</td>\n",
       "      <td>3002</td>\n",
       "      <td>5.84 meter relative to NAP</td>\n",
       "      <td>Deviated</td>\n",
       "      <td>2975.50 meter relative to Rotary Table2969.66 ...</td>\n",
       "      <td>173.87 m</td>\n",
       "      <td>159.57 m</td>\n",
       "      <td>NaN</td>\n",
       "      <td>NaN</td>\n",
       "      <td>Groningen (GRO)</td>\n",
       "      <td>53.30021133</td>\n",
       "      <td>6.90929329</td>\n",
       "    </tr>\n",
       "    <tr>\n",
       "      <th>0</th>\n",
       "      <td>AMR-03</td>\n",
       "      <td>53.30020666, 6.90824303</td>\n",
       "      <td>256404, 591485</td>\n",
       "      <td>NAM</td>\n",
       "      <td>1973-01-25</td>\n",
       "      <td>23-02-1973</td>\n",
       "      <td>Development hydrocarbon</td>\n",
       "      <td>Producing/Injecting</td>\n",
       "      <td>Gas</td>\n",
       "      <td>3011</td>\n",
       "      <td>5.11 meter relative to NAP</td>\n",
       "      <td>Deviated</td>\n",
       "      <td>2976.23 meter relative to Rotary Table2971.12 ...</td>\n",
       "      <td>232.15 m</td>\n",
       "      <td>151.18 m</td>\n",
       "      <td>NaN</td>\n",
       "      <td>KCA Deutag Drilling Ltd</td>\n",
       "      <td>Groningen (GRO)</td>\n",
       "      <td>53.30020666</td>\n",
       "      <td>6.90824303</td>\n",
       "    </tr>\n",
       "    <tr>\n",
       "      <th>0</th>\n",
       "      <td>AMR-04</td>\n",
       "      <td>53.30020217, 6.90719863</td>\n",
       "      <td>256334.39, 591483.03</td>\n",
       "      <td>NAM</td>\n",
       "      <td>1973-02-24</td>\n",
       "      <td>21-03-1973</td>\n",
       "      <td>Development hydrocarbon</td>\n",
       "      <td>Closed-in</td>\n",
       "      <td>Gas</td>\n",
       "      <td>3015</td>\n",
       "      <td>5.10 meter relative to NAP</td>\n",
       "      <td>Deviated</td>\n",
       "      <td>2973.52 meter relative to Rotary Table2968.42 ...</td>\n",
       "      <td>272.95 m</td>\n",
       "      <td>148.59 m</td>\n",
       "      <td>NaN</td>\n",
       "      <td>KCA Deutag Drilling Ltd</td>\n",
       "      <td>Groningen (GRO)</td>\n",
       "      <td>53.30020217</td>\n",
       "      <td>6.90719863</td>\n",
       "    </tr>\n",
       "    <tr>\n",
       "      <th>0</th>\n",
       "      <td>AMR-05</td>\n",
       "      <td>53.30019729, 6.90614251</td>\n",
       "      <td>256264, 591481</td>\n",
       "      <td>NAM</td>\n",
       "      <td>1973-03-22</td>\n",
       "      <td>07-04-1973</td>\n",
       "      <td>Development hydrocarbon</td>\n",
       "      <td>Plugged back and sidetracked</td>\n",
       "      <td>Technical failure</td>\n",
       "      <td>2584</td>\n",
       "      <td>5.19 meter relative to NAP</td>\n",
       "      <td>Deviated</td>\n",
       "      <td>2576.90 meter relative to Rotary Table2571.71 ...</td>\n",
       "      <td>35.52 m</td>\n",
       "      <td>77.79 m</td>\n",
       "      <td>NaN</td>\n",
       "      <td>NaN</td>\n",
       "      <td>Groningen (GRO)</td>\n",
       "      <td>53.30019729</td>\n",
       "      <td>6.90614251</td>\n",
       "    </tr>\n",
       "  </tbody>\n",
       "</table>\n",
       "</div>"
      ],
      "text/plain": [
       "  Identification                  Location     Delivered location  \\\n",
       "0         AMR-01  53.30083055, 6.90509971         256193, 591550    \n",
       "0         AMR-02  53.30021133, 6.90929329         256474, 591487    \n",
       "0         AMR-03  53.30020666, 6.90824303         256404, 591485    \n",
       "0         AMR-04  53.30020217, 6.90719863   256334.39, 591483.03    \n",
       "0         AMR-05  53.30019729, 6.90614251         256264, 591481    \n",
       "\n",
       "                                 Operator Startdate drilling Enddate drilling  \\\n",
       "0  Nederlandse Aardolie Maatschappij B.V.         1972-03-27       14-05-1972   \n",
       "0                                     NAM         1973-05-16       12-06-1973   \n",
       "0                                     NAM         1973-01-25       23-02-1973   \n",
       "0                                     NAM         1973-02-24       21-03-1973   \n",
       "0                                     NAM         1973-03-22       07-04-1973   \n",
       "\n",
       "                 Well type                        Status        Well result  \\\n",
       "0    Appraisal hydrocarbon           Producing/Injecting                Gas   \n",
       "0  Development hydrocarbon           Producing/Injecting                Gas   \n",
       "0  Development hydrocarbon           Producing/Injecting                Gas   \n",
       "0  Development hydrocarbon                     Closed-in                Gas   \n",
       "0  Development hydrocarbon  Plugged back and sidetracked  Technical failure   \n",
       "\n",
       "   End depth Vertical position of Rotary Table  Trajectory  \\\n",
       "0       2974         5.09 meter relative to NAP   Vertical   \n",
       "0       3002         5.84 meter relative to NAP   Deviated   \n",
       "0       3011         5.11 meter relative to NAP   Deviated   \n",
       "0       3015         5.10 meter relative to NAP   Deviated   \n",
       "0       2584         5.19 meter relative to NAP   Deviated   \n",
       "\n",
       "                               Actual vertical depth Deviation in direction x  \\\n",
       "0  2971.55 meter relative to Rotary Table2966.46 ...                  61.90 m   \n",
       "0  2975.50 meter relative to Rotary Table2969.66 ...                 173.87 m   \n",
       "0  2976.23 meter relative to Rotary Table2971.12 ...                 232.15 m   \n",
       "0  2973.52 meter relative to Rotary Table2968.42 ...                 272.95 m   \n",
       "0  2576.90 meter relative to Rotary Table2571.71 ...                  35.52 m   \n",
       "\n",
       "  Deviation in direction y Platform/installation         Drilling company  \\\n",
       "0                  45.01 m            Ideal 80 B                   Deutag   \n",
       "0                 159.57 m                   NaN                      NaN   \n",
       "0                 151.18 m                   NaN  KCA Deutag Drilling Ltd   \n",
       "0                 148.59 m                   NaN  KCA Deutag Drilling Ltd   \n",
       "0                  77.79 m                   NaN                      NaN   \n",
       "\n",
       "  Field (fieldcode)          Lat         Lon  \n",
       "0   Groningen (GRO)  53.30083055  6.90509971  \n",
       "0   Groningen (GRO)  53.30021133  6.90929329  \n",
       "0   Groningen (GRO)  53.30020666  6.90824303  \n",
       "0   Groningen (GRO)  53.30020217  6.90719863  \n",
       "0   Groningen (GRO)  53.30019729  6.90614251  "
      ]
     },
     "execution_count": 10,
     "metadata": {},
     "output_type": "execute_result"
    }
   ],
   "source": [
    "## Restructure the dataset\n",
    "well_data[well_data.columns[1]] = well_data[well_data.columns[1]].map(lambda x: x.rstrip('(WGS84)'))\n",
    "location = well_data['Location'].str.split(\", \", n = 1, expand = True)\n",
    "well_data['Lat'] = pd.to_numeric(location[0])\n",
    "well_data['Lon'] = pd.to_numeric(location[1])\n",
    "well_data[well_data.columns[2]] = well_data[well_data.columns[2]].map(lambda x: x.rstrip('(RD)'))\n",
    "well_data['End depth'] = well_data['End depth'].str.extract('(\\d+)', expand=False)\n",
    "well_data['End depth'] = pd.to_numeric(well_data['End depth'])\n",
    "well_data['Startdate drilling'] = pd.to_datetime(well_data['Startdate drilling'], format='%d-%m-%Y')\n",
    "well_data.to_csv('well_data.csv')\n",
    "well_data.head(5)"
   ]
  },
  {
   "cell_type": "markdown",
   "metadata": {
    "id": "eOZBNtrXpOr6"
   },
   "source": [
    "### Exploratory Data Analysis\n",
    "Some visualization and statistics. \n",
    "\n",
    "Since we already store all data as a json format in a folder, we load it in again and combine them all as a pandas dataframe. The json file itself can be used for other purpose independently."
   ]
  },
  {
   "cell_type": "code",
   "execution_count": 11,
   "metadata": {
    "id": "FrdUNafwo-ZB"
   },
   "outputs": [
    {
     "data": {
      "text/html": [
       "<div>\n",
       "<style scoped>\n",
       "    .dataframe tbody tr th:only-of-type {\n",
       "        vertical-align: middle;\n",
       "    }\n",
       "\n",
       "    .dataframe tbody tr th {\n",
       "        vertical-align: top;\n",
       "    }\n",
       "\n",
       "    .dataframe thead th {\n",
       "        text-align: right;\n",
       "    }\n",
       "</style>\n",
       "<table border=\"1\" class=\"dataframe\">\n",
       "  <thead>\n",
       "    <tr style=\"text-align: right;\">\n",
       "      <th></th>\n",
       "      <th>Well</th>\n",
       "      <th>Surface</th>\n",
       "      <th>Depth</th>\n",
       "    </tr>\n",
       "  </thead>\n",
       "  <tbody>\n",
       "    <tr>\n",
       "      <th>0</th>\n",
       "      <td>ZVN-13</td>\n",
       "      <td>Upper North Sea Group</td>\n",
       "      <td>0.0</td>\n",
       "    </tr>\n",
       "    <tr>\n",
       "      <th>1</th>\n",
       "      <td>ZVN-13</td>\n",
       "      <td>Brussels Sand Member</td>\n",
       "      <td>496.0</td>\n",
       "    </tr>\n",
       "    <tr>\n",
       "      <th>2</th>\n",
       "      <td>ZVN-13</td>\n",
       "      <td>Ieper Member</td>\n",
       "      <td>555.0</td>\n",
       "    </tr>\n",
       "    <tr>\n",
       "      <th>3</th>\n",
       "      <td>ZVN-13</td>\n",
       "      <td>Basal Dongen Tuffite Member</td>\n",
       "      <td>730.0</td>\n",
       "    </tr>\n",
       "    <tr>\n",
       "      <th>4</th>\n",
       "      <td>ZVN-13</td>\n",
       "      <td>Landen Clay Member</td>\n",
       "      <td>746.0</td>\n",
       "    </tr>\n",
       "  </tbody>\n",
       "</table>\n",
       "</div>"
      ],
      "text/plain": [
       "     Well                      Surface  Depth\n",
       "0  ZVN-13        Upper North Sea Group    0.0\n",
       "1  ZVN-13         Brussels Sand Member  496.0\n",
       "2  ZVN-13                 Ieper Member  555.0\n",
       "3  ZVN-13  Basal Dongen Tuffite Member  730.0\n",
       "4  ZVN-13           Landen Clay Member  746.0"
      ]
     },
     "execution_count": 11,
     "metadata": {},
     "output_type": "execute_result"
    }
   ],
   "source": [
    "## Load data\n",
    "welltops_files = os.path.join(download_path,'*.json')\n",
    "file_list = glob.glob(welltops_files)\n",
    "welltops = pd.DataFrame()\n",
    "\n",
    "\n",
    "for file in file_list:\n",
    "    temp = pd.read_json(file, orient='index').reset_index() #read each json file, contains tops data\n",
    "    temp.insert(loc=0, column='Well', value=Path(file).stem) #assign well name\n",
    "    welltops = welltops.from_records(temp) #collect into one dataframe\n",
    "\n",
    "welltops = welltops.set_axis(['Well', 'Surface', 'Depth'], axis=1, inplace=False)\n",
    "welltops.head(5)"
   ]
  },
  {
   "cell_type": "code",
   "execution_count": 12,
   "metadata": {
    "id": "rxf-AGZPpUps"
   },
   "outputs": [
    {
     "data": {
      "text/plain": [
       "Text(0, 0.5, 'Well Result')"
      ]
     },
     "execution_count": 12,
     "metadata": {},
     "output_type": "execute_result"
    },
    {
     "data": {
      "image/png": "[encoded data removed]",
      "text/plain": [
       "<Figure size 360x360 with 1 Axes>"
      ]
     },
     "metadata": {},
     "output_type": "display_data"
    }
   ],
   "source": [
    "## Looking at the distribution of well result\n",
    "well_data.groupby(['Well result']).size().plot(kind = 'pie', figsize=(5,5),autopct='%1.1f%%')\n",
    "plt.ylabel('Well Result')"
   ]
  },
  {
   "cell_type": "code",
   "execution_count": 13,
   "metadata": {
    "id": "yB8lJuICpWfY"
   },
   "outputs": [
    {
     "data": {
      "text/plain": [
       "Text(0, 0.5, 'Number of well')"
      ]
     },
     "execution_count": 13,
     "metadata": {},
     "output_type": "execute_result"
    },
    {
     "data": {
      "image/png": "[encoded data removed]",
      "text/plain": [
       "<Figure size 720x216 with 1 Axes>"
      ]
     },
     "metadata": {
      "needs_background": "light"
     },
     "output_type": "display_data"
    }
   ],
   "source": [
    "## Looking at the distribution of well penetration by year\n",
    "well_data.groupby(well_data['Startdate drilling'].dt.year)['Startdate drilling'].size().plot(kind = 'bar', figsize=(10,3))\n",
    "plt.title('Number of Wells Penetrated by Year')\n",
    "plt.xlabel('Year')\n",
    "plt.ylabel('Number of well')"
   ]
  },
  {
   "cell_type": "code",
   "execution_count": 14,
   "metadata": {},
   "outputs": [
    {
     "data": {
      "text/plain": [
       "Text(119.70915246879721, 0.5, 'Latitude')"
      ]
     },
     "execution_count": 14,
     "metadata": {},
     "output_type": "execute_result"
    },
    {
     "data": {
      "image/png": "[encoded data removed]",
      "text/plain": [
       "<Figure size 864x864 with 1 Axes>"
      ]
     },
     "metadata": {
      "needs_background": "light"
     },
     "output_type": "display_data"
    }
   ],
   "source": [
    "## Plot well locations\n",
    "groups = well_data.groupby('Well result')\n",
    "mapdf = gpd.read_file('Groningen_Field.zip').to_crs(4326)\n",
    "#mapdf = mapdf[(mapdf[\"TYPE_1\"] == \"Provincie\") & (mapdf[\"NAME_1\"] == \"Groningen\")]\n",
    "fig, ax = plt.subplots(figsize=(12,12))\n",
    "mapdf.plot(ax=ax,facecolor='peachpuff')\n",
    "for name, group in groups:\n",
    "    ax.plot(group.Lon, group.Lat, marker='o', linestyle='', ms=8, label=name)\n",
    "ax.legend()\n",
    "plt.title('Groningen', fontsize=20)\n",
    "plt.xlabel('Longitude')\n",
    "plt.ylabel('Latitude')"
   ]
  }
 ],
 "metadata": {
  "colab": {
   "provenance": [],
   "toc_visible": true
  },
  "kernelspec": {
   "display_name": "Python 3 (ipykernel)",
   "language": "python",
   "name": "python3"
  },
  "language_info": {
   "codemirror_mode": {
    "name": "ipython",
    "version": 3
   },
   "file_extension": ".py",
   "mimetype": "text/x-python",
   "name": "python",
   "nbconvert_exporter": "python",
   "pygments_lexer": "ipython3",
   "version": "3.9.13"
  }
 },
 "nbformat": 4,
 "nbformat_minor": 1
}
